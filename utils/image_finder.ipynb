{
 "cells": [
  {
   "cell_type": "markdown",
   "metadata": {},
   "source": [
    "### train 데이터를 annotation과 함께 출력"
   ]
  },
  {
   "cell_type": "code",
   "execution_count": 9,
   "metadata": {},
   "outputs": [],
   "source": [
    "import cv2\n",
    "import random\n",
    "from detectron2.utils.visualizer import Visualizer\n",
    "from detectron2.data.datasets import register_coco_instances\n",
    "from detectron2.data import MetadataCatalog, DatasetCatalog\n",
    "import matplotlib.pyplot as plt"
   ]
  },
  {
   "cell_type": "code",
   "execution_count": 10,
   "metadata": {},
   "outputs": [],
   "source": [
    "# 리소스\n",
    "coco_dataset_train = 'coco_trash_train'\n",
    "\n",
    "# 경로\n",
    "path_dataset = '/data/ephemeral/home/dataset/'\n",
    "\n",
    "data_size = 10\n",
    "scale = 0.6"
   ]
  },
  {
   "cell_type": "code",
   "execution_count": null,
   "metadata": {},
   "outputs": [],
   "source": [
    "if coco_dataset_train not in DatasetCatalog.list():\n",
    "    register_coco_instances(coco_dataset_train, {}, path_dataset + 'train.json', path_dataset)\n",
    "\n",
    "dataset_dicts = DatasetCatalog.get(coco_dataset_train)\n",
    "metadata = MetadataCatalog.get(coco_dataset_train)\n",
    "\n",
    "for data in random.sample(dataset_dicts, data_size):\n",
    "    img = cv2.imread(data[\"file_name\"])\n",
    "    \n",
    "    visualizer = Visualizer(img[:, :, ::-1], metadata=metadata, scale=scale)\n",
    "    vis = visualizer.draw_dataset_dict(data)\n",
    "    \n",
    "    plt.figure(figsize=(10, 10))\n",
    "    plt.imshow(vis.get_image()[:, :, ::-1])\n",
    "    plt.axis(\"off\")\n",
    "    plt.show()"
   ]
  },
  {
   "cell_type": "markdown",
   "metadata": {},
   "source": [
    "### 이전 train 결과 보기"
   ]
  },
  {
   "cell_type": "code",
   "execution_count": null,
   "metadata": {},
   "outputs": [],
   "source": [
    "from detectron2.utils.visualizer import Visualizer, ColorMode\n",
    "from detectron2 import model_zoo\n",
    "import cv2\n",
    "from detectron2.engine import DefaultPredictor\n",
    "from detectron2.config import get_cfg\n",
    "from detectron2.data import MetadataCatalog\n",
    "import matplotlib.pyplot as plt\n",
    "\n",
    "im = cv2.imread(\"/data/ephemeral/home/dataset/test/0000.jpg\")\n",
    "\n",
    "# 예측\n",
    "cfg = get_cfg()\n",
    "cfg.MODEL.DEVICE = \"cuda\"\n",
    "cfg.DATASETS.TRAIN = (\"coco_trash_train\",) \n",
    "cfg.merge_from_file(model_zoo.get_config_file(\"COCO-Detection/faster_rcnn_R_101_FPN_3x.yaml\"))\n",
    "cfg.MODEL.WEIGHTS = model_zoo.get_checkpoint_url('COCO-Detection/faster_rcnn_R_101_FPN_3x.yaml')\n",
    "cfg.MODEL.ROI_HEADS.SCORE_THRESH_TEST = 0.05\n",
    "\n",
    "predictor = DefaultPredictor(cfg)\n",
    "outputs = predictor(im)\n",
    "\n",
    "# 예측된 바운딩 박스 시각화\n",
    "v = Visualizer(im[:, :, ::-1], MetadataCatalog.get(cfg.DATASETS.TEST[0]), scale=1.2)\n",
    "out = v.draw_instance_predictions(outputs[\"instances\"].to(\"cpu\"))\n",
    "plt.imshow(out.get_image()[:, :, ::-1])\n",
    "plt.show()"
   ]
  }
 ],
 "metadata": {
  "kernelspec": {
   "display_name": "base",
   "language": "python",
   "name": "python3"
  },
  "language_info": {
   "codemirror_mode": {
    "name": "ipython",
    "version": 3
   },
   "file_extension": ".py",
   "mimetype": "text/x-python",
   "name": "python",
   "nbconvert_exporter": "python",
   "pygments_lexer": "ipython3",
   "version": "3.10.13"
  }
 },
 "nbformat": 4,
 "nbformat_minor": 2
}
